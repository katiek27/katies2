{
 "cells": [
  {
   "cell_type": "markdown",
   "metadata": {},
   "source": [
    "---\n",
    "toc: true\n",
    "comments: false\n",
    "layout: post\n",
    "title: Bash Examples\n",
    "description: Here's my code while tinkering with bash.\n",
    "type: hacks\n",
    "courses: { compsci: {week: 3} }\n",
    "---"
   ]
  },
  {
   "cell_type": "code",
   "execution_count": null,
   "metadata": {},
   "outputs": [],
   "source": [
    "%%bash\n",
    "#!/bin/bash\n",
    "# A script that asks for your age and provides some responses based on your age.\n",
    "\n",
    "echo \"How old are you?\"\n",
    "read age\n",
    "\n",
    "if [[ $age -lt 18 ]]; then\n",
    "  echo \"stay in school lol\"\n",
    "elif [[ $age -ge 18 && $age -lt 30 ]]; then\n",
    "  echo \"did you know life unofficially ends at 26?\"\n",
    "elif [[ $age -ge 30 && $age -lt 50 ]]; then\n",
    "  echo \"Mid life crisis yet?\"\n",
    "else\n",
    "  echo \"when life gives you lemons, wrinkle up like one\"\n",
    "fi\n",
    "\n",
    "echo \"By the way, you look alright for $age years old!\"\n"
   ]
  },
  {
   "cell_type": "markdown",
   "metadata": {},
   "source": [
    "This is my linux example above, I used the default age command and added some extra directions using AI. It's now curating specific responses based on range and still echoing \"you look great!\"\n"
   ]
  }
 ],
 "metadata": {
  "kernelspec": {
   "display_name": "Python 3",
   "language": "python",
   "name": "python3"
  },
  "language_info": {
   "name": "python",
   "version": "3.11.4"
  },
  "orig_nbformat": 4
 },
 "nbformat": 4,
 "nbformat_minor": 2
}
