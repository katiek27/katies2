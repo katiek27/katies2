{
 "cells": [
  {
   "cell_type": "markdown",
   "metadata": {},
   "source": [
    "---\n",
    "toc: false\n",
    "comments: false\n",
    "layout: tangibles\n",
    "title: finalprep\n",
    "description: Whoopsies I forgot to add a review ticket lolol\n",
    "type: plans\n",
    "courses: { compsci: {week: 7} }\n",
    "---"
   ]
  },
  {
   "cell_type": "code",
   "execution_count": 2,
   "metadata": {
    "vscode": {
     "languageId": "html"
    }
   },
   "outputs": [
    {
     "data": {
      "text/html": [
       "<head>\n",
       "    <title> eureka </title>\n",
       "</head>\n",
       "<body>\n",
       "    <h1> game game gmae</h1>\n",
       "    <br>\n",
       "    <ul>\n",
       "        <li> look check out this insane video!</li>\n",
       "    </ul>\n",
       "    <iframe width=\"560\" height=\"315\" src=\"https://www.youtube.com/embed/yP5DKzriqXA?si=9CnD-_rujbD9BFKD\" title=\"YouTube video player\" frameborder=\"0\" allow=\"accelerometer; autoplay; clipboard-write; encrypted-media; gyroscope; picture-in-picture; web-share\" allowfullscreen></iframe>\n",
       "    <p style=\"color:pink\"> did you see my insane iframe video tag skills also check out these crazyyyyy javascript ideals and learning and knowing</p>\n",
       "</body>\n"
      ],
      "text/plain": [
       "<IPython.core.display.HTML object>"
      ]
     },
     "metadata": {},
     "output_type": "display_data"
    }
   ],
   "source": [
    "%%html\n",
    "<head>\n",
    "    <title> eureka </title>\n",
    "</head>\n",
    "<body>\n",
    "    <h1> game game gmae</h1>\n",
    "    <br>\n",
    "    <ul>\n",
    "        <li> look check out this insane video!</li>\n",
    "    </ul>\n",
    "    <iframe width=\"560\" height=\"315\" src=\"https://www.youtube.com/embed/yP5DKzriqXA?si=9CnD-_rujbD9BFKD\" title=\"YouTube video player\" frameborder=\"0\" allow=\"accelerometer; autoplay; clipboard-write; encrypted-media; gyroscope; picture-in-picture; web-share\" allowfullscreen></iframe>\n",
    "    <p style=\"color:pink\"> did you see my insane iframe video tag skills also check out these crazyyyyy javascript ideals and learning and knowing</p>\n",
    "</body>\n"
   ]
  },
  {
   "cell_type": "code",
   "execution_count": 1,
   "metadata": {
    "vscode": {
     "languageId": "html"
    }
   },
   "outputs": [
    {
     "data": {
      "text/html": [
       "<head>\n",
       "    <title> wowee!</title>\n",
       "    <style>\n",
       "        .first {\n",
       "            color: red,\n",
       "            font-size: 40px,\n",
       "        }\n",
       "        .second {\n",
       "            color: orange,\n",
       "            font-size: 30px,\n",
       "        }\n",
       "        .third {\n",
       "            color: yellow,\n",
       "            font-size: 20px,\n",
       "        }\n",
       "        .fourth {\n",
       "            color: green,\n",
       "            font-size: 10px,\n",
       "        }\n",
       "        .fifth {\n",
       "            color: blue,\n",
       "            font-size: 5px,\n",
       "        }\n",
       "    </style>\n",
       "</head>\n",
       "<body>\n",
       "   <p>\n",
       "    we learned basic html and styling in css which i will demonstrate here in a beautfiul rainbow please observe.\n",
       "   </p>\n",
       "   <div class =\"first\">\n",
       "    <h1> hi</h1>\n",
       "   </div>\n",
       "   <div class = \"second\">\n",
       "    <h2> hi</h2>\n",
       "   </div>\n",
       "   <div class = \"third\">\n",
       "    <h3> hi </h3>\n",
       "   </div>\n",
       "   <div class = \"fourth\">\n",
       "    <h4> hi </h4>\n",
       "   </div>\n",
       "   <div class = \"fifth\">\n",
       "    <h5> hi </h5>\n",
       "   </div>\n",
       "</body>\n"
      ],
      "text/plain": [
       "<IPython.core.display.HTML object>"
      ]
     },
     "metadata": {},
     "output_type": "display_data"
    }
   ],
   "source": [
    "%%html\n",
    "<head>\n",
    "    <title> wowee!</title>\n",
    "    <style>\n",
    "        .first {\n",
    "            color: red,\n",
    "            font-size: 40px,\n",
    "        }\n",
    "        .second {\n",
    "            color: orange,\n",
    "            font-size: 30px,\n",
    "        }\n",
    "        .third {\n",
    "            color: yellow,\n",
    "            font-size: 20px,\n",
    "        }\n",
    "        .fourth {\n",
    "            color: green,\n",
    "            font-size: 10px,\n",
    "        }\n",
    "        .fifth {\n",
    "            color: blue,\n",
    "            font-size: 5px,\n",
    "        }\n",
    "    </style>\n",
    "</head>\n",
    "<body>\n",
    "   <p>\n",
    "    we learned basic html and styling in css which i will demonstrate here in a beautfiul rainbow please observe.\n",
    "\n",
    "    Okay nvm its not working and i dont know why but you understand the intent i had yes.\n",
    "   </p>\n",
    "   <div class =\"first\">\n",
    "    <h1> hi</h1>\n",
    "   </div>\n",
    "   <div class = \"second\">\n",
    "    <h2> hi</h2>\n",
    "   </div>\n",
    "   <div class = \"third\">\n",
    "    <h3> hi </h3>\n",
    "   </div>\n",
    "   <div class = \"fourth\">\n",
    "    <h4> hi </h4>\n",
    "   </div>\n",
    "   <div class = \"fifth\">\n",
    "    <h5> hi </h5>\n",
    "   </div>\n",
    "</body>"
   ]
  },
  {
   "cell_type": "code",
   "execution_count": 2,
   "metadata": {
    "vscode": {
     "languageId": "html"
    }
   },
   "outputs": [
    {
     "data": {
      "text/html": [
       "\n",
       "<head>\n",
       "    <title> lets get down to business to defeat the huns</title>\n",
       "</head>\n",
       "\n",
       "<body>\n",
       "    <h1> Here are some things I did that made it in the code (and some that didnt)</h1>\n",
       "    <p> so here we have a class for flamebreath. i worked on the powers mostly, but andrew did the bulk of it. I started working on the healthbar and losing hp but the code was broken at this point so i gave up.</p>\n",
       "    <p> here is the code</p>\n",
       "\n",
       "    <script>\n",
       "        const attacks = { // we are making a constant variable here, bc attacks stay constant hurray\n",
       "    WingSlap: {\n",
       "        name: 'WingSlap',\n",
       "        damage: 15,\n",
       "        type: \"Normal\",\n",
       "        color: 'black'\n",
       "    },\n",
       "    FlameBreath: {\n",
       "        name: 'FlameBreath', //look i did some of this one, it's the constructors and whatever defines the class\n",
       "        damage: 25,\n",
       "        type: \"Fire\",\n",
       "        color: \"red\"\n",
       "    }\n",
       "}\n",
       "    </script>\n",
       "    <br>\n",
       "    <br>\n",
       "    <br>\n",
       "    <p> ngl i kinda worked on liek the review ticket and the readme bc i didnt wanna code and nobody watned to do the readme. im not suprirsed it sucked. oh but check out this crazyyyy sprite (that didnt get included)</p> \n",
       "</body>\n"
      ],
      "text/plain": [
       "<IPython.core.display.HTML object>"
      ]
     },
     "metadata": {},
     "output_type": "display_data"
    }
   ],
   "source": [
    "%%html\n",
    "\n",
    "<head>\n",
    "    <title> lets get down to business to defeat the huns</title>\n",
    "</head>\n",
    "\n",
    "<body>\n",
    "    <h1> Here are some things I did that made it in the code (and some that didnt)</h1>\n",
    "    <p> so here we have a class for flamebreath. i worked on the powers mostly, but andrew did the bulk of it. I started working on the healthbar and losing hp but the code was broken at this point so i gave up.</p>\n",
    "    <p> here is the code</p>\n",
    "\n",
    "    <script>\n",
    "        const attacks = { // we are making a constant variable here, bc attacks stay constant hurray\n",
    "    WingSlap: {\n",
    "        name: 'WingSlap',\n",
    "        damage: 15,\n",
    "        type: \"Normal\",\n",
    "        color: 'black'\n",
    "    },\n",
    "    FlameBreath: {\n",
    "        name: 'FlameBreath', //look i did some of this one, it's the constructors and whatever defines the class\n",
    "        damage: 25,\n",
    "        type: \"Fire\",\n",
    "        color: \"red\"\n",
    "    }\n",
    "}\n",
    "    </script>\n",
    "    <br>\n",
    "    <br>\n",
    "    <br>\n",
    "    <p> ngl i kinda worked on liek the review ticket and the readme bc i didnt wanna code and nobody watned to do the readme. im not suprirsed it sucked. oh but check out this crazyyyy sprite (that didnt get included also did you know coding is CASE SENSITIVE SO WE NEED TO SPELL OUR THINGS RIGHT THANK YOU.)</p> \n",
    "</body>"
   ]
  },
  {
   "cell_type": "code",
   "execution_count": 3,
   "metadata": {
    "vscode": {
     "languageId": "html"
    }
   },
   "outputs": [
    {
     "data": {
      "text/html": [
       "<head>\n",
       "    <title> gsap and co</title>\n",
       "</head>\n",
       "<body>\n",
       "    <p>\n",
       "        I mostly did the ending poriton (haha) and transitioning the entire battle portion to the main game. gsap is a third party thingy that makes animations for javascript. it was specifically utilized to animate our battles back to the main screen and vice versa.\n",
       "    </p>\n",
       "    <img src = \"https://repository-images.githubusercontent.com/5905330/b77da600-0330-11ea-965b-ec11bc9d0759\" alt = \"gsap so heroic\"> </img>\n",
       "    <br>\n",
       "    <br>\n",
       "    <p> but it also utilized classes and functions! lots of functions! I cant explain what all of them do exactly but i have a gist. so please dont ask me to explain bc i understood it at the time and now i forogt. the javascript code is here:</p>\n",
       "</body>\n"
      ],
      "text/plain": [
       "<IPython.core.display.HTML object>"
      ]
     },
     "metadata": {},
     "output_type": "display_data"
    }
   ],
   "source": [
    "%%html\n",
    "<head>\n",
    "    <title> gsap and co</title>\n",
    "</head>\n",
    "<body>\n",
    "    <p>\n",
    "        I mostly did the ending poriton (haha) and transitioning the entire battle portion to the main game. gsap is a third party thingy that makes animations for javascript. it was specifically utilized to animate our battles back to the main screen and vice versa.\n",
    "    </p>\n",
    "    <img src = \"https://repository-images.githubusercontent.com/5905330/b77da600-0330-11ea-965b-ec11bc9d0759\" alt = \"gsap so heroic\"> </img>\n",
    "    <br>\n",
    "    <br>\n",
    "    <p> but it also utilized classes and functions! lots of functions! I cant explain what all of them do exactly but i have a gist. so please dont ask me to explain bc i understood it at the time and now i forogt. the javascript code is here:</p>\n",
    "</body>"
   ]
  },
  {
   "cell_type": "code",
   "execution_count": 7,
   "metadata": {
    "vscode": {
     "languageId": "html"
    }
   },
   "outputs": [
    {
     "ename": "SyntaxError",
     "evalue": "unmatched '}' (1038218123.py, line 86)",
     "output_type": "error",
     "traceback": [
      "\u001b[0;36m  Cell \u001b[0;32mIn[7], line 86\u001b[0;36m\u001b[0m\n\u001b[0;31m    }\u001b[0m\n\u001b[0m    ^\u001b[0m\n\u001b[0;31mSyntaxError\u001b[0m\u001b[0;31m:\u001b[0m unmatched '}'\n"
     ]
    }
   ],
   "source": [
    "<script>\n",
    "shroomy = new Monster(monsters.Shroomy)\n",
    "  dracogon = new Monster(monsters.Dracogon)\n",
    "  renderedSprites = [shroomy, dracogon]\n",
    "  queue = []\n",
    "\n",
    "  dracogon.attacks.forEach((attack) => {\n",
    "    const button = document.createElement('button') \n",
    "    button.innerHTML = attack.name\n",
    "    document.querySelector('#attacksBox').append(button)\n",
    "  })\n",
    "  //our event listeners for our buttons (attack)\n",
    "document.querySelectorAll('button').forEach((button) => {\n",
    "  button.addEventListener('click', (e) => {\n",
    "  const selectedAttack = attacks[e.currentTarget.innerHTML]\n",
    "    dracogon.attack({ \n",
    "      attack: selectedAttack,\n",
    "    recipient: shroomy,\n",
    "    renderedSprites\n",
    "  })\n",
    "\n",
    "  if(shroomy.health <= 0){\n",
    "    queue.push(() => {\n",
    "     shroomy.faint()\n",
    "  })\n",
    "  queue.push(() => {\n",
    "    // fade back to black budad buda buda bum\n",
    "    gsap.to('#overlappingDiv', {\n",
    "      opacity: 1,\n",
    "      onComplete: () => {\n",
    "        cancelAnimationFrame(battleAnimationId)\n",
    "        animate()\n",
    "        document.querySelector('#userInterface').style.display = \"none\"\n",
    "        gsap.to('#overlappingDiv', {\n",
    "          opacity: 0\n",
    "        })\n",
    "\n",
    "        battle.initiated = false\n",
    "      }\n",
    "    })\n",
    "  })\n",
    "  }\n",
    "  //shroomy or enemy attacks here\n",
    "  const randomAttack =\n",
    "  shroomy.attacks[Math.floor(Math.random() * shroomy.attacks.length)]\n",
    "  \n",
    "  queue.push(() => {\n",
    "    shroomy.attack({ \n",
    "    attack: randomAttack,\n",
    "    recipient: dracogon,\n",
    "    renderedSprites\n",
    "  })\n",
    "\n",
    "  if(dracogon.health <= 0) {\n",
    "    queue.push(() => {\n",
    "      dracogon.faint()\n",
    "    })\n",
    "    queue.push(() => {\n",
    "      // fade back to black budad buda buda bum\n",
    "      gsap.to('#overlappingDiv', {\n",
    "        opacity: 1,\n",
    "        onComplete: () => {\n",
    "          cancelAnimationFrame(battleAnimationId)\n",
    "          animate()\n",
    "          document.querySelector('#userInterface').style.display = \"none\"\n",
    "          gsap.to('#overlappingDiv', {\n",
    "            opacity: 0\n",
    "          })\n",
    "\n",
    "          battle.initiated = false\n",
    "        }\n",
    "      })\n",
    "    })\n",
    "  }\n",
    "})\n",
    "})\n",
    "button.addEventListener('mouseenter', (e) => {\n",
    "const selectedAttack = attacks[e.currentTarget.innerHTML]\n",
    "document.querySelector('#attackType').innerHTML = selectedAttack.type\n",
    "document.querySelector('#attackType').style.color = selectedAttack.color\n",
    "console.log('go')\n",
    "\n",
    "}) \n",
    "\n",
    "})\n",
    "}\n",
    "\n",
    "function animateBattle() {\n",
    "  battleAnimationId = window.requestAnimationFrame(animateBattle)\n",
    "  battleBackground.draw()\n",
    " \n",
    "  renderedSprites.forEach((sprite) => {\n",
    "    sprite.draw()\n",
    "  })\n",
    "}\n",
    "</script>"
   ]
  },
  {
   "cell_type": "code",
   "execution_count": 5,
   "metadata": {
    "vscode": {
     "languageId": "html"
    }
   },
   "outputs": [
    {
     "data": {
      "text/html": [
       "<head>\n",
       "    <title> hi hello </title>\n",
       "</head>\n",
       "\n",
       "<body>\n",
       "    <h1> would you believe the problems i faced. the ADVERSITIES? THE STRUGGLES?</h1>\n",
       "    <p> anyway i adapted improvised overcame like bear grylls the man the myth told me to. problmes we faced was mostly case sensitive things, like adding the wrong path to our png and also like misspelling half of the things we shouldve (ahaha initibattle and dracogon and capitalization) the lesson here is that it's great if we can have some friends along the way to help us out with our typos. MAYBE THE GAME WAS THE FRIENDS WE MADE ALONG THE WAY. i learned lots about classes and cooperatino and how annoying sophia can be sometimes but i have nochocie bc she admittedly did some of the code i guess. anynway next time i will strive to be a better coder. </p>\n",
       "</body>\n"
      ],
      "text/plain": [
       "<IPython.core.display.HTML object>"
      ]
     },
     "metadata": {},
     "output_type": "display_data"
    }
   ],
   "source": [
    "%%html\n",
    "<head>\n",
    "    <title> hi hello </title>\n",
    "</head>\n",
    "\n",
    "<body>\n",
    "    <h1> would you believe the problems i faced. the ADVERSITIES? THE STRUGGLES?</h1>\n",
    "    <p> anyway i adapted improvised overcame like bear grylls the man the myth told me to. problmes we faced was mostly case sensitive things, like adding the wrong path to our png and also like misspelling half of the things we shouldve (ahaha initibattle and dracogon and capitalization) the lesson here is that it's great if we can have some friends along the way to help us out with our typos. MAYBE THE GAME WAS THE FRIENDS WE MADE ALONG THE WAY. i learned lots about classes and cooperatino and how annoying sophia can be sometimes but i have nochocie bc she admittedly did some of the code i guess. anynway next time i will strive to be a better coder. </p>\n",
    "</body>"
   ]
  },
  {
   "cell_type": "markdown",
   "metadata": {},
   "source": [
    "<html lang=\"en\">\n",
    "<head>\n",
    "    <meta charset=\"UTF-8\">\n",
    "    <meta name=\"viewport\" content=\"width=device-width, initial-scale=1.0\">\n",
    "    <title>Sprite Animation</title>\n",
    "</head>\n",
    "<body>\n",
    "    <div>\n",
    "        <canvas id=\"spriteContainer\">\n",
    "            <!-- Within the base div is a canvas. An HTML canvas is used only for graphics. It allows the user to access some basic functions related to the image created on the canvas (including animation) -->\n",
    "            <img id=\"pigeonSprite\" src=\"{{site.baseurl}}/images/down.png\">\n",
    "        </canvas>\n",
    "        <div id=\"controls\">\n",
    "            <!-- Basic radio buttons which can be used to check whether each individual animation works -->\n",
    "            <input type=\"radio\" name=\"animation\" id=\"idle\" checked>\n",
    "            <label for=\"idle\">Walk</label><br>\n",
    "        </div>\n",
    "    </div>\n",
    "    <script>\n",
    "        // start on page load\n",
    "        window.addEventListener('load', function () {\n",
    "            const canvas = document.getElementById('spriteContainer');\n",
    "            const ctx = canvas.getContext('2d');\n",
    "            const SPRITE_WIDTH = 48; // matches sprite pixel width\n",
    "            const SPRITE_HEIGHT = 192; // matches sprite pixel height\n",
    "            const SCALE_FACTOR = 1; // control size of sprite on canvas\n",
    "            const FRAME_LIMIT = 4; // number of frames per row, this code assumes each row is the same\n",
    "            let frameCounter = 0;\n",
    "            // Event listener for keydown event\n",
    "            document.addEventListener('keydown', (event) => {\n",
    "                if (event.key === 'w' || event.key === 'W') {\n",
    "                    // Move the sprite up\n",
    "                    pigeon.y -= movementSpeed;\n",
    "                    isMoving = true;\n",
    "                } else if (event.key === 's' || event.key === 'S') {\n",
    "                    // Move the sprite down\n",
    "                    pigeon.y += movementSpeed;\n",
    "                    isMoving = true;\n",
    "                } else if (event.key === 'a' || event.key === 'A') {\n",
    "                    // Move the sprite left\n",
    "                    pigeon.x -= movementSpeed;\n",
    "                    isMoving = true;\n",
    "                } else if (event.key === 'd' || event.key === 'D') {\n",
    "                    // Move the sprite right\n",
    "                    pigeon.x += movementSpeed;\n",
    "                    isMoving = true;\n",
    "                } else if (event.key === 'b' || event.key === 'B') {\n",
    "                    pigeon.frameY = 1; // Set frameY to the barking animation frame\n",
    "                    issleeping = true;\n",
    "                }\n",
    "            });\n",
    "            // Event listener for keyup event\n",
    "            document.addEventListener('keyup', () => {\n",
    "                // Stop the sprite when a movement key is released\n",
    "                isMoving = false;\n",
    "            });\n",
    "            canvas.width = SPRITE_WIDTH * SCALE_FACTOR;\n",
    "            canvas.height = SPRITE_HEIGHT * SCALE_FACTOR;\n",
    "            class Pigeon {\n",
    "                constructor() {\n",
    "                    this.image = document.getElementById(\"pigeonSprite\");\n",
    "                    this.spriteWidth = SPRITE_WIDTH;\n",
    "                    this.spriteHeight = SPRITE_HEIGHT;\n",
    "                    this.width = this.spriteWidth;\n",
    "                    this.height = this.spriteHeight;\n",
    "                    this.x = 0;\n",
    "                    this.y = 0;\n",
    "                    this.scale = SCALE_FACTOR;\n",
    "                    this.minFrame = 0;\n",
    "                    this.maxFrame = FRAME_LIMIT;\n",
    "                    this.frameX = 0;\n",
    "                    this.frameY = 0;\n",
    "                }\n",
    "                // Draw pigeon object\n",
    "                draw(context) {\n",
    "                    context.drawImage(\n",
    "                        this.image,\n",
    "                        this.frameX * this.spriteWidth,\n",
    "                        this.frameY * this.spriteHeight,\n",
    "                        this.spriteWidth,\n",
    "                        this.spriteHeight,\n",
    "                        this.x,\n",
    "                        this.y,\n",
    "                        this.width * this.scale,\n",
    "                        this.height * this.scale\n",
    "                    );\n",
    "                }\n",
    "                // Update frameX of object\n",
    "                update() {\n",
    "                    if (this.frameX < this.maxFrame) {\n",
    "                        this.frameX++;\n",
    "                    } else {\n",
    "                        this.frameX = 0;\n",
    "                    }\n",
    "                }\n",
    "            }\n",
    "            // Pigeon object\n",
    "            const pigeon = new Pigeon();\n",
    "            const movementSpeed = 1;\n",
    "            let isMoving = false;\n",
    "            // Update frameY of pigeon object, action from idle, bark, walk radio control\n",
    "            const controls = document.getElementById('controls');\n",
    "            controls.addEventListener('click', function (event) {\n",
    "                if (event.target.tagName === 'INPUT') {\n",
    "                    const selectedAnimation = event.target.id;\n",
    "                    switch (selectedAnimation) {\n",
    "                        case 'idle':\n",
    "                            pigeon.frameY = 0;\n",
    "                            break;\n",
    "                        default:\n",
    "                            break;\n",
    "                    }\n",
    "                }\n",
    "            });\n",
    "            // Animation recursive control function\n",
    "            function animate() {\n",
    "                // Clears the canvas to remove the previous frame.\n",
    "                if (frameCounter === 0) {\n",
    "                    ctx.clearRect(0, 0, canvas.width, canvas.height);\n",
    "                }\n",
    "                // Draws the current frame of the sprite.\n",
    "                pigeon.draw(ctx);\n",
    "                // Updates the `frameX` property to prepare for the next frame in the sprite sheet.\n",
    "                if (frameCounter % 6 === 0) {\n",
    "                    pigeon.update();\n",
    "                }\n",
    "                // Increment frameCounter and reset when it reaches the loop\n",
    "                frameCounter++;\n",
    "                if (frameCounter >= 6) {\n",
    "                    frameCounter = 0;\n",
    "                }\n",
    "                // Use `requestAnimationFrame` to synchronize the animation loop with the display's refresh rate,\n",
    "                // ensuring smooth visuals.\n",
    "                requestAnimationFrame(animate);\n",
    "            }\n",
    "            // Run the first animate\n",
    "            animate();\n",
    "        });\n",
    "    </script>\n",
    "</body>\n",
    "</html>\n"
   ]
  },
  {
   "cell_type": "code",
   "execution_count": 6,
   "metadata": {
    "vscode": {
     "languageId": "html"
    }
   },
   "outputs": [
    {
     "data": {
      "text/html": [
       "\n",
       "<head>\n",
       "    <title> ... so what</title>\n",
       "    <style>\n",
       "        h1 {\n",
       "            color: red\n",
       "        }\n",
       "    </style>\n",
       "</head>\n",
       "<body>\n",
       "    <h1> i love learning</h1>\n",
       "    <p> so i google searched some html code and css and died while making this blog. the game was all js and this lovely guy was teaching me how to do the entire thing and it was lowk so liberating having a guy actually teach i loved that fr fr it is truly a moving experience to have someone explain what theyre doing. no foul tho. xoxo loved this class (?!) next time i wil  improve my javascript understandbing bc i did work a lot on html andcss this time but i think i should actually do javascript even though it is  alittl eocnufsing and a game was defintiely not the best way to get us to learn javascript.</p>\n",
       "</body>\n"
      ],
      "text/plain": [
       "<IPython.core.display.HTML object>"
      ]
     },
     "metadata": {},
     "output_type": "display_data"
    }
   ],
   "source": [
    "%%html\n",
    "\n",
    "<head>\n",
    "    <title> ... so what</title>\n",
    "    <style>\n",
    "        h1 {\n",
    "            color: red\n",
    "        }\n",
    "    </style>\n",
    "</head>\n",
    "<body>\n",
    "    <h1> i love learning</h1>\n",
    "    <p> so i google searched some html code and css and died while making this blog. the game was all js and this lovely guy was teaching me how to do the entire thing and it was lowk so liberating having a guy actually teach i loved that fr fr it is truly a moving experience to have someone explain what theyre doing. no foul tho. xoxo loved this class (?!) next time i wil  improve my javascript understandbing bc i did work a lot on html andcss this time but i think i should actually do javascript even though it is  alittl eocnufsing and a game was defintiely not the best way to get us to learn javascript.</p>\n",
    "</body>"
   ]
  }
 ],
 "metadata": {
  "kernelspec": {
   "display_name": "Python 3",
   "language": "python",
   "name": "python3"
  },
  "language_info": {
   "codemirror_mode": {
    "name": "ipython",
    "version": 3
   },
   "file_extension": ".py",
   "mimetype": "text/x-python",
   "name": "python",
   "nbconvert_exporter": "python",
   "pygments_lexer": "ipython3",
   "version": "3.11.4"
  },
  "orig_nbformat": 4
 },
 "nbformat": 4,
 "nbformat_minor": 2
}
